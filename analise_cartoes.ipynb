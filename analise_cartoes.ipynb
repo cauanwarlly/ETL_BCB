{
 "cells": [
  {
   "cell_type": "markdown",
   "id": "076b0638",
   "metadata": {},
   "source": [
    "# Análise das transações de cartões de Crédito"
   ]
  },
  {
   "cell_type": "markdown",
   "id": "90972365",
   "metadata": {},
   "source": [
    "## Carregamento dos \n",
    "\n",
    "O ETL gerou um banco SQLite no qual faremos uma análise exploratória."
   ]
  },
  {
   "cell_type": "code",
   "execution_count": 2,
   "id": "83326677",
   "metadata": {},
   "outputs": [
    {
     "name": "stdout",
     "output_type": "stream",
     "text": [
      "          datatrimestre    valorPix     valorTED  valorTEC  valorCheque  \\\n",
      "0   2024-12-31 00:00:00  7714115.37  11647265.67      0.00    187486.45   \n",
      "1   2024-09-30 00:00:00  6975429.47  11180217.68      0.00    194330.60   \n",
      "2   2024-06-30 00:00:00  6284296.05  10662555.73      0.00    221553.82   \n",
      "3   2024-03-31 00:00:00  5429305.43   9651625.56    925.26    190457.25   \n",
      "4   2023-12-31 00:00:00  5300155.00  10090921.81   5787.89    221424.78   \n",
      "5   2023-09-30 00:00:00  4469529.57   9960251.89   4156.38    218121.88   \n",
      "6   2023-06-30 00:00:00  3900377.43  10657463.13   4770.74    228408.82   \n",
      "7   2023-03-31 00:00:00  3447198.28   9919602.84   4535.17    240686.19   \n",
      "8   2022-12-31 00:00:00  3342913.94  10382121.63   5609.53    242259.61   \n",
      "9   2022-09-30 00:00:00  2936413.95  10437763.16   3735.46    267090.22   \n",
      "10  2022-06-30 00:00:00  2543384.40  10449574.67   4786.14    271008.09   \n",
      "11  2022-03-31 00:00:00  2067826.55   9507158.34   3865.81    255455.43   \n",
      "12  2021-12-31 00:00:00  1916418.68   9807293.11   5436.19    264298.16   \n",
      "13  2021-09-30 00:00:00  1556916.22   9257046.28   3684.13    271120.34   \n",
      "14  2021-06-30 00:00:00  1105735.20   8566787.27   3894.81    264944.31   \n",
      "15  2021-03-31 00:00:00   625046.52   7894414.16   4352.44    253527.92   \n",
      "16  2020-12-31 00:00:00   149894.91   8036705.32   5137.42    278295.37   \n",
      "17  2020-09-30 00:00:00        0.00   7503982.24   4159.60    259334.88   \n",
      "18  2020-06-30 00:00:00        0.00   6267004.16   4647.32    237873.12   \n",
      "19  2020-03-31 00:00:00        0.00   6652135.13   4829.56    318844.92   \n",
      "20  2019-12-31 00:00:00        0.00   6560042.73   6343.77    372693.66   \n",
      "21  2019-09-30 00:00:00        0.00   6285701.44   5469.66    385735.21   \n",
      "22  2019-06-30 00:00:00        0.00   5700739.79   5506.27    388525.47   \n",
      "23  2019-03-31 00:00:00        0.00   5039380.73   4794.82    375916.28   \n",
      "\n",
      "    valorBoleto  valorDOC  valorCartaoCredito  valorCartaoDebito  \\\n",
      "0    2529891.48      0.00           728621.99          259929.79   \n",
      "1    2444696.19      0.00           663288.44          241932.98   \n",
      "2    2360557.98      0.00           631811.52          239101.56   \n",
      "3    2248972.68    650.80           607470.96          235111.60   \n",
      "4    2317765.95   4684.98           630191.34          259057.92   \n",
      "5    2296883.56  10131.89           581902.42          240827.84   \n",
      "6    2249059.73  11258.23           561910.94          238172.21   \n",
      "7    2211523.05   7467.11           535520.44          237175.13   \n",
      "8    2259674.59   9584.63           560765.41          264120.64   \n",
      "9    2248416.63  17106.46           521942.27          243632.86   \n",
      "10   2210099.22  17081.53           501514.74          245563.75   \n",
      "11   2032317.14  11976.36           453292.41          230186.87   \n",
      "12   2072053.93  14166.99           467911.25          257458.30   \n",
      "13   2001074.00  22306.75           399054.11          233970.03   \n",
      "14   1839452.36  23158.84           344999.68          214381.06   \n",
      "15   1769759.68  21777.70           310412.13          204752.91   \n",
      "16   1919100.60  38705.14           332987.17          258471.49   \n",
      "17   1959819.72  52156.84           279176.98          228771.89   \n",
      "18   1366623.21  50881.15           224389.54          152246.79   \n",
      "19   1526486.76  30628.55           275659.09          171399.49   \n",
      "20   1579497.09  37728.79           302888.19          193673.01   \n",
      "21   1484836.27  39652.79           272414.67          164735.63   \n",
      "22   1409618.75  34716.55           253161.38          153747.19   \n",
      "23   1468066.32  35812.80           235435.49          151764.67   \n",
      "\n",
      "    valorCartaoPrePago  ...  quantidadeCheque  quantidadeBoleto  \\\n",
      "0             85637.90  ...          41511.28        1459138.85   \n",
      "1             78531.94  ...          44243.73        1466699.01   \n",
      "2             77389.01  ...          44981.97        1439119.34   \n",
      "3             73035.61  ...          46468.88        1422731.42   \n",
      "4             79592.40  ...          52101.15        1452479.44   \n",
      "5             69553.22  ...          54410.39        1487094.89   \n",
      "6             63923.28  ...          56339.37        1494218.28   \n",
      "7             61169.03  ...          57830.55        1510817.64   \n",
      "8             66081.98  ...          62606.24        1522483.73   \n",
      "9             55695.33  ...          68142.99        1538367.11   \n",
      "10            50925.72  ...          70141.14        1517092.79   \n",
      "11            43541.91  ...          71479.43        1490934.41   \n",
      "12            42420.50  ...          77752.86        1497704.81   \n",
      "13            33731.83  ...          80110.80        1493638.16   \n",
      "14            26760.54  ...          75417.98        1431427.43   \n",
      "15            20327.69  ...          79409.62        1386080.60   \n",
      "16            19923.51  ...          91594.82        1472868.82   \n",
      "17            14809.51  ...          86966.27        1389215.55   \n",
      "18             8969.46  ...          85355.07        1256812.05   \n",
      "19             8700.25  ...         115237.83        1184510.67   \n",
      "20             8940.68  ...         134725.84        1190397.80   \n",
      "21             7803.22  ...         138322.67        1155112.73   \n",
      "22             6572.85  ...         138158.92        1076813.11   \n",
      "23             5019.16  ...         139621.22        1020583.81   \n",
      "\n",
      "    quantidadeDOC  quantidadeCartaoCredito  quantidadeCartaoDebito  \\\n",
      "0            0.00               5351537.72              4282401.27   \n",
      "1            0.00               5042306.16              4121806.10   \n",
      "2            0.00               4879707.17              4057958.85   \n",
      "3          662.65               4723437.71              3952365.16   \n",
      "4         4664.79               4813848.35              4238653.32   \n",
      "5        12613.82               4583771.68              4014361.45   \n",
      "6        10328.16               4434832.09              3929786.47   \n",
      "7         7530.90               4189059.28              3835192.13   \n",
      "8         9871.74               4334758.40              4115443.07   \n",
      "9        18047.28               4151713.82              3831079.03   \n",
      "10       17905.10               3974127.06              3778540.37   \n",
      "11       13194.98               3679415.97              3589968.33   \n",
      "12       16716.81               3741214.50              3849208.18   \n",
      "13       27667.96               3311505.26              3526062.88   \n",
      "14       28659.42               2841992.76              3141691.41   \n",
      "15       31687.35               2584404.06              3005004.65   \n",
      "16       58634.44               2672666.45              3483509.40   \n",
      "17       74377.91               2280096.07              2957015.55   \n",
      "18       73763.72               1907929.12              2259584.47   \n",
      "19       43503.55               2492783.10              2757914.17   \n",
      "20       51756.51               2681083.06              3102432.97   \n",
      "21       53387.74               2516328.04              2749305.82   \n",
      "22       47739.37               2324477.29              2524775.40   \n",
      "23       52449.83               2081348.82              2471245.21   \n",
      "\n",
      "    quantidadeCartaoPrePago  quantidadeTransIntrabancaria  \\\n",
      "0                3339927.19                     492222.96   \n",
      "1                3132433.07                     426403.30   \n",
      "2                3046233.97                     328564.47   \n",
      "3                2774237.04                     277322.15   \n",
      "4                2974411.01                     376316.19   \n",
      "5                2677826.63                     318650.76   \n",
      "6                2426618.73                     278674.94   \n",
      "7                2237800.76                     259518.60   \n",
      "8                2303423.64                     289650.44   \n",
      "9                1993806.85                     274847.98   \n",
      "10               1750865.66                     269502.24   \n",
      "11               1507246.16                     278556.41   \n",
      "12               1430826.74                     226318.22   \n",
      "13               1603852.67                     244008.40   \n",
      "14               1264916.88                     260756.78   \n",
      "15               1016901.48                     274419.70   \n",
      "16               1056946.56                     348828.24   \n",
      "17                795301.85                     338018.29   \n",
      "18                533545.65                     303062.51   \n",
      "19                577500.51                     293996.77   \n",
      "20                159510.21                     365515.57   \n",
      "21                109323.89                     347495.65   \n",
      "22                 77904.49                     331095.31   \n",
      "23                 58847.58                     307650.07   \n",
      "\n",
      "    quantidadeConvenios  quantidadeDebitoDireto  quantidadeSaques  \n",
      "0             633961.05              3795099.85         658974.36  \n",
      "1             661718.39              3832573.90         664226.19  \n",
      "2             679418.05              3320590.50         698603.67  \n",
      "3             726669.76              3238699.12         683043.00  \n",
      "4             669806.38              3102557.70         752440.67  \n",
      "5             705507.61              2790819.99         758691.59  \n",
      "6             734712.47              2556236.88         778454.00  \n",
      "7             764475.74              2437253.99         662875.26  \n",
      "8             735105.83              1935349.13         742553.43  \n",
      "9             766676.25              1965308.38         725040.40  \n",
      "10            773505.49              2017609.09         876660.30  \n",
      "11            786600.76              2049566.58         838690.74  \n",
      "12            755053.35              1809992.06         919580.38  \n",
      "13            774410.72              1765464.80         918141.51  \n",
      "14            733937.43              1709009.85         924449.90  \n",
      "15            766141.92              1704253.83         926234.05  \n",
      "16            750242.75              1700531.57        1084574.42  \n",
      "17            776086.02              1623252.19        1009737.66  \n",
      "18            752351.43              1542581.41         934644.94  \n",
      "19            860763.75              1522644.97        1034924.99  \n",
      "20            786763.01              1459193.74        1237366.49  \n",
      "21            864138.87              1514404.88        1150223.87  \n",
      "22            811802.76              1418749.18        1114642.78  \n",
      "23            913784.42              1381466.73        1103906.31  \n",
      "\n",
      "[24 rows x 27 columns]\n"
     ]
    }
   ],
   "source": [
    "import sqlite3\n",
    "import pandas as pd\n",
    "\n",
    "# Estabelecer conexão com a base de dados\n",
    "con = sqlite3.connect('src/datasets/etlbcb.db')\n",
    "\n",
    "# Query para selecionar todas as linhas de determinada tabela, como por exemplo \"meios_pagamentos_tri\"\n",
    "query = \"SELECT * FROM meios_pagamentos_tri\"\n",
    "\n",
    "# Usar pandas para ler o resultado da Query SQL num DataFrame\n",
    "df = pd.read_sql(query, con=con)\n",
    "\n",
    "# Mostrar o Display\n",
    "print(df)\n",
    "\n",
    "#Fechar conexão\n",
    "con.close()\n"
   ]
  },
  {
   "cell_type": "markdown",
   "id": "35880a0a",
   "metadata": {},
   "source": [
    "## Estudo das Médias\n",
    "\n",
    "Para entender melhor os dados obtidos vamos gerar a média dos valores"
   ]
  },
  {
   "cell_type": "code",
   "execution_count": 3,
   "id": "e946cf9f",
   "metadata": {},
   "outputs": [
    {
     "name": "stdout",
     "output_type": "stream",
     "text": [
      "Média das transações PIX pro trimestre: R$ 2490206.54\n"
     ]
    }
   ],
   "source": [
    "soma = df ['valorPix'].sum()\n",
    "total = df ['valorPix'].count()\n",
    "\n",
    "print (\"Média das transações PIX pro trimestre: R$\", round(soma/total,2))"
   ]
  },
  {
   "cell_type": "code",
   "execution_count": 4,
   "id": "b0c3e1cd",
   "metadata": {},
   "outputs": [
    {
     "data": {
      "text/plain": [
       "np.float64(430.713035665615)"
      ]
     },
     "execution_count": 4,
     "metadata": {},
     "output_type": "execute_result"
    }
   ],
   "source": [
    "#Qual a média do valor por transação PIX?\n",
    "\n",
    "soma_valores = df ['valorPix'].sum()*1e3\n",
    "soma_transacoes = df['quantidadePix'].sum()\n",
    "\n",
    "(soma_valores)/(soma_transacoes)\n"
   ]
  },
  {
   "cell_type": "code",
   "execution_count": 5,
   "id": "b82bcbc0",
   "metadata": {},
   "outputs": [
    {
     "data": {
      "text/plain": [
       "np.float64(430.71303566561505)"
      ]
     },
     "execution_count": 5,
     "metadata": {},
     "output_type": "execute_result"
    }
   ],
   "source": [
    "#Utilizando o pandas para resolver\n",
    "\n",
    "soma1 = df['valorPix'].mean()*1e3\n",
    "soma2 = df['quantidadePix'].mean()\n",
    "\n",
    "soma1/soma2"
   ]
  },
  {
   "cell_type": "code",
   "execution_count": 6,
   "id": "40333be3",
   "metadata": {},
   "outputs": [
    {
     "name": "stdout",
     "output_type": "stream",
     "text": [
      "datatrimestre                    object\n",
      "valorPix                        float64\n",
      "valorTED                        float64\n",
      "valorTEC                        float64\n",
      "valorCheque                     float64\n",
      "valorBoleto                     float64\n",
      "valorDOC                        float64\n",
      "valorCartaoCredito              float64\n",
      "valorCartaoDebito               float64\n",
      "valorCartaoPrePago              float64\n",
      "valorTransIntrabancaria         float64\n",
      "valorConvenios                  float64\n",
      "valorDebitoDireto               float64\n",
      "valorSaques                     float64\n",
      "quantidadePix                   float64\n",
      "quantidadeTED                   float64\n",
      "quantidadeTEC                   float64\n",
      "quantidadeCheque                float64\n",
      "quantidadeBoleto                float64\n",
      "quantidadeDOC                   float64\n",
      "quantidadeCartaoCredito         float64\n",
      "quantidadeCartaoDebito          float64\n",
      "quantidadeCartaoPrePago         float64\n",
      "quantidadeTransIntrabancaria    float64\n",
      "quantidadeConvenios             float64\n",
      "quantidadeDebitoDireto          float64\n",
      "quantidadeSaques                float64\n",
      "dtype: object\n",
      "Médias das variáveis numéricas:\n",
      "valorPix                        2.490207e+06\n",
      "valorTED                        8.838240e+06\n",
      "valorTEC                        4.017849e+03\n",
      "valorCheque                     2.670580e+05\n",
      "valorBoleto                     1.991927e+06\n",
      "valorDOC                        2.048479e+04\n",
      "valorCartaoCredito              4.448634e+05\n",
      "valorCartaoDebito               2.216744e+05\n",
      "valorCartaoPrePago              4.204402e+04\n",
      "valorTransIntrabancaria         4.771915e+06\n",
      "valorConvenios                  8.434439e+05\n",
      "valorDebitoDireto               6.892523e+05\n",
      "valorSaques                     6.725624e+05\n",
      "quantidadePix                   5.781591e+06\n",
      "quantidadeTED                   2.864225e+05\n",
      "quantidadeTEC                   1.917135e+03\n",
      "quantidadeCheque                7.970546e+04\n",
      "quantidadeBoleto                1.389848e+06\n",
      "quantidadeDOC                   2.729850e+04\n",
      "quantidadeCartaoCredito         3.566431e+06\n",
      "quantidadeCartaoDebito          3.482304e+06\n",
      "quantidadeCartaoPrePago         1.618759e+06\n",
      "quantidadeTransIntrabancaria    3.129748e+05\n",
      "quantidadeConvenios             7.576514e+05\n",
      "quantidadeDebitoDireto          2.174717e+06\n",
      "quantidadeSaques                8.832784e+05\n",
      "dtype: float64\n"
     ]
    }
   ],
   "source": [
    "# Verifica os tipos de dados para identificar as variáveis numéricas\n",
    "print(df.dtypes)\n",
    "\n",
    "# Filtra apenas as colunas numéricas\n",
    "numericas = df.select_dtypes(include=['int64', 'float64'])\n",
    "\n",
    "# Exibe a média de todas as variáveis numéricas\n",
    "medias = numericas.mean()\n",
    "print(\"Médias das variáveis numéricas:\")\n",
    "print(medias)\n"
   ]
  },
  {
   "cell_type": "markdown",
   "id": "00e5ed78",
   "metadata": {},
   "source": [
    "## Estudo da mediana do valorPix"
   ]
  },
  {
   "cell_type": "markdown",
   "id": "10ab46ab",
   "metadata": {},
   "source": [
    "Para encontrar a mediana precisamos ordenar os valores e encontrar os elementos centrais\n",
    "\n",
    "Para determinar o elemento central, se o número de elementos for par, usamos a fórmula:\n",
    "$$\\frac{X_\\frac{n}{2} + X_(\\frac {n}{2} + 1)}{2}$$"
   ]
  },
  {
   "cell_type": "code",
   "execution_count": 7,
   "id": "c169db08",
   "metadata": {},
   "outputs": [
    {
     "name": "stdout",
     "output_type": "stream",
     "text": [
      "A lista possui: 24 elementos\n"
     ]
    }
   ],
   "source": [
    "ordenados = df ['valorPix'].sort_values()\n",
    "n = len(ordenados)\n",
    "\n",
    "print(\"A lista possui:\", n, \"elementos\")"
   ]
  },
  {
   "cell_type": "markdown",
   "id": "2203c4d3",
   "metadata": {},
   "source": [
    "Para determinar a mediana devemos encontrar os números que estão na posição 12 e 13, \n",
    "mas as listas em python começam a contar da posição 0, logo a mediana é o valor médio\n",
    "entre os elementos na posição 11 e 12.\n"
   ]
  },
  {
   "cell_type": "code",
   "execution_count": 8,
   "id": "12360a11",
   "metadata": {},
   "outputs": [
    {
     "data": {
      "text/plain": [
       "np.float64(1992122.615)"
      ]
     },
     "execution_count": 8,
     "metadata": {},
     "output_type": "execute_result"
    }
   ],
   "source": [
    "inf = ordenados[n/2 - 1]\n",
    "sup = ordenados[n/2]\n",
    "\n",
    "mediana = (inf+sup)/2\n",
    "mediana\n"
   ]
  },
  {
   "cell_type": "markdown",
   "id": "7d8619a7",
   "metadata": {},
   "source": [
    "Para o caso de um número de elementos ímpar a mediana é o valor central:\n",
    "\n",
    "$$ \\frac {X_{n+1}}{2}$$\n",
    "\n",
    "### Cálculo da mediana no Pandas"
   ]
  },
  {
   "cell_type": "code",
   "execution_count": 9,
   "id": "d761fc13",
   "metadata": {},
   "outputs": [
    {
     "data": {
      "text/plain": [
       "np.float64(1992122.615)"
      ]
     },
     "execution_count": 9,
     "metadata": {},
     "output_type": "execute_result"
    }
   ],
   "source": [
    "df['valorPix'].median()"
   ]
  },
  {
   "cell_type": "markdown",
   "id": "370ab80c",
   "metadata": {},
   "source": [
    "## Medidas de Dispersão\n",
    "\n",
    "### Variancia\n",
    "\n",
    "A média das diferenças entre os valores e o valor médio do conjunto de dados também é conhecido como dispersáo média.\n",
    "\n",
    "$$\\frac{|X_1-\\bar(X)|^2+...+|X_n-\\bar(X)|^2}n$$\n"
   ]
  },
  {
   "cell_type": "code",
   "execution_count": 10,
   "id": "477c5c10",
   "metadata": {},
   "outputs": [
    {
     "data": {
      "text/plain": [
       "np.float64(6162872150374.747)"
      ]
     },
     "execution_count": 10,
     "metadata": {},
     "output_type": "execute_result"
    }
   ],
   "source": [
    "df['valorPix'].var()"
   ]
  },
  {
   "cell_type": "markdown",
   "id": "b8f61ec0",
   "metadata": {},
   "source": [
    "obs: a variãncia aprensenta valores altos ea unidade de medida é quadrada\n",
    "\n",
    "## Desvio-Padrão\n",
    "\n",
    "É a raiz quandrada da variãncia"
   ]
  },
  {
   "cell_type": "code",
   "execution_count": 11,
   "id": "35c86cbe",
   "metadata": {},
   "outputs": [
    {
     "data": {
      "text/plain": [
       "np.float64(2482513.2729503675)"
      ]
     },
     "execution_count": 11,
     "metadata": {},
     "output_type": "execute_result"
    }
   ],
   "source": [
    "df['valorPix'].std()"
   ]
  },
  {
   "cell_type": "markdown",
   "id": "d6748c8c",
   "metadata": {},
   "source": [
    "obs: Ém muitos casos 66% dos dados a um desvio-padrão da média do seu conjunto de dados."
   ]
  }
 ],
 "metadata": {
  "kernelspec": {
   "display_name": ".venv",
   "language": "python",
   "name": "python3"
  },
  "language_info": {
   "codemirror_mode": {
    "name": "ipython",
    "version": 3
   },
   "file_extension": ".py",
   "mimetype": "text/x-python",
   "name": "python",
   "nbconvert_exporter": "python",
   "pygments_lexer": "ipython3",
   "version": "3.12.10"
  }
 },
 "nbformat": 4,
 "nbformat_minor": 5
}
